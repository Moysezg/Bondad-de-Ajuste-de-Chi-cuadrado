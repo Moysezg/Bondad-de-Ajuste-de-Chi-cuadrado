{
  "nbformat": 4,
  "nbformat_minor": 0,
  "metadata": {
    "colab": {
      "provenance": [],
      "authorship_tag": "ABX9TyOAB8VVS50RpwGbK4MvUL4e",
      "include_colab_link": true
    },
    "kernelspec": {
      "name": "python3",
      "display_name": "Python 3"
    },
    "language_info": {
      "name": "python"
    }
  },
  "cells": [
    {
      "cell_type": "markdown",
      "metadata": {
        "id": "view-in-github",
        "colab_type": "text"
      },
      "source": [
        "<a href=\"https://colab.research.google.com/github/Moysezg/Bondad-de-Ajuste-de-Chi-cuadrado/blob/main/Untitled1.ipynb\" target=\"_parent\"><img src=\"https://colab.research.google.com/assets/colab-badge.svg\" alt=\"Open In Colab\"/></a>"
      ]
    },
    {
      "cell_type": "code",
      "execution_count": 140,
      "metadata": {
        "colab": {
          "base_uri": "https://localhost:8080/"
        },
        "id": "AK0iaP0QS85Q",
        "outputId": "ecfe07f1-30bd-4275-a627-4cd8b442138f"
      },
      "outputs": [
        {
          "output_type": "stream",
          "name": "stdout",
          "text": [
            "El número total de datos es:  10\n",
            "Dato menor=  0.005  Dato mayor  0.999999999\n",
            "raiz(n)=  3.16  m = sig entero=  4\n",
            "Nivel de confianza 95%,grados libertad=  3  chi~cuadrado=  8.094216436000387\n"
          ]
        }
      ],
      "source": [
        "lista_nums = [0.005,0.2,0.3,0.5,0.5,0.9,0.10,0.2,0.8,0.999999999]  \n",
        "\n",
        "print(\"El número total de datos es: \", len(lista_nums))\n",
        "a1=min(lista_nums)\n",
        "b1=max(lista_nums)\n",
        "print(\"Dato menor= \",a1, \" Dato mayor \", b1)\n",
        "n=len(lista_nums)\n",
        "int (n)\n",
        "m=n**0.5\n",
        "alfa=0.05\n",
        "confiabilidad=1-alfa\n",
        "k=0\n",
        "\n",
        "enterom=int(m)\n",
        "\n",
        "mod=m%enterom\n",
        "\n",
        "if mod == 0:\n",
        "    print(\"Los intervalos que tienes (m) son \", int(m))\n",
        "    gl=m-k\n",
        "\n",
        "else:\n",
        "    print(\"raiz(n)= \", round(m,2), \" m = sig entero= \", int(m+1))\n",
        "    gl=m-k\n",
        "    from  scipy.stats import chi2_contingency\n",
        "import numpy as np\n",
        "\n",
        "\n",
        "chi=scipy.stats.chi2.ppf (confiabilidad,gl)\n",
        "print(\"Nivel de confianza 95%,grados libertad= \",round(gl),\" chi~cuadrado= \",chi)"
      ]
    },
    {
      "cell_type": "code",
      "source": [
        "from numpy import mean \n",
        "print(\"Media \", round(mean(lista_nums), 5))\n",
        "import statistics\n",
        "output = statistics.variance(lista_nums) \n",
        "print(\"Varianza(m) : \", round(output, 5))"
      ],
      "metadata": {
        "colab": {
          "base_uri": "https://localhost:8080/"
        },
        "id": "ubw7pRttTdM0",
        "outputId": "80fd8f77-f90f-48de-ddbe-976e5595a5dc"
      },
      "execution_count": 141,
      "outputs": [
        {
          "output_type": "stream",
          "name": "stdout",
          "text": [
            "Media  0.4505\n",
            "Varianza(m) :  0.12228\n"
          ]
        }
      ]
    },
    {
      "cell_type": "code",
      "source": [
        "a=0;\n",
        "\n",
        "intervalo=0.1\n",
        "import sympy as sp \n",
        "x = sp.Symbol('x')\n",
        "Csuma=0\n",
        "print(\"\\nIntervalos,    F0i          FEi          Ci\")\n",
        "for i in range(0,n):\n",
        "    cont1=0\n",
        "    for i in range(0,n):\n",
        "        B=lista_nums[i]\n",
        "        print \n",
        "        if(B>=a and B<a+intervalo):\n",
        "            cont1=cont1+1         \n",
        "    a=a+intervalo\n",
        "    FEi=1/(b1-a1)\n",
        "    FOi=cont1\n",
        "    Ci=((FEi-FOi)**2)/FEi  \n",
        "    sp.integrate(y,(x,a-intervalo,a))\n",
        "    print(\" [\",round(a-intervalo,3),\",\",round(a,4),\") FOi=\",cont1,\"   \",\"FEi=\",round(FEi,4),\"    Ci=\",round(Ci,10))\n",
        "    Csuma=Ci+Csuma\n",
        "print (\"C= \",Csuma) "
      ],
      "metadata": {
        "colab": {
          "base_uri": "https://localhost:8080/"
        },
        "id": "d7cjG7O5TvP6",
        "outputId": "4ea2d90f-7717-419b-ab36-100266ecd9a6"
      },
      "execution_count": 146,
      "outputs": [
        {
          "output_type": "stream",
          "name": "stdout",
          "text": [
            "\n",
            "Intervalos,    F0i          FEi          Ci\n",
            " [ 0.0 , 0.1 ) FOi= 1     FEi= 1.005     Ci= 2.51256e-05\n",
            " [ 0.1 , 0.2 ) FOi= 1     FEi= 1.005     Ci= 2.51256e-05\n",
            " [ 0.2 , 0.3 ) FOi= 3     FEi= 1.005     Ci= 3.9600251176\n",
            " [ 0.3 , 0.4 ) FOi= 0     FEi= 1.005     Ci= 1.0050251266\n",
            " [ 0.4 , 0.5 ) FOi= 0     FEi= 1.005     Ci= 1.0050251266\n",
            " [ 0.5 , 0.6 ) FOi= 2     FEi= 1.005     Ci= 0.9850251226\n",
            " [ 0.6 , 0.7 ) FOi= 0     FEi= 1.005     Ci= 1.0050251266\n",
            " [ 0.7 , 0.8 ) FOi= 0     FEi= 1.005     Ci= 1.0050251266\n",
            " [ 0.8 , 0.9 ) FOi= 1     FEi= 1.005     Ci= 2.51256e-05\n",
            " [ 0.9 , 1.0 ) FOi= 2     FEi= 1.005     Ci= 0.9850251226\n",
            "C=  9.95025124638216\n"
          ]
        }
      ]
    },
    {
      "cell_type": "code",
      "source": [
        "if chi < Csuma:\n",
        "    print(\"chi= \",round(chi,4),\"< C= \",round(Csuma,4),\"A un nivel de confiabilidad 1- alfa Se puede rechazar la hipotesis de que los datos siguen la distribución propuesta\")\n",
        "    \n",
        "\n",
        "else:\n",
        "    print(\"chi= \",chi,\">= C= \",round(Csuma,4),\"A un nivel de confiabilidad 1-alfa, No se puede rechazar la hipotesis de que los datos siguen la distribución propuesta\")\n",
        "    \n",
        "\n"
      ],
      "metadata": {
        "colab": {
          "base_uri": "https://localhost:8080/"
        },
        "id": "xRyrZ9qCeQ8j",
        "outputId": "0d9ec7c8-0f4c-450e-e065-938a6540c7e5"
      },
      "execution_count": 150,
      "outputs": [
        {
          "output_type": "stream",
          "name": "stdout",
          "text": [
            "chi=  8.0942 < C=  9.9503 A un nivel de confiabilidad 1- alfa Se puede rechazar la hipotesis de que los datos siguen la distribución propuesta\n"
          ]
        }
      ]
    }
  ]
}