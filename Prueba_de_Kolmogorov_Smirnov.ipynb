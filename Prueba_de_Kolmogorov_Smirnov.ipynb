{
  "nbformat": 4,
  "nbformat_minor": 0,
  "metadata": {
    "colab": {
      "provenance": [],
      "authorship_tag": "ABX9TyNqVrMsGf9GKWm3+As9+A3J",
      "include_colab_link": true
    },
    "kernelspec": {
      "name": "python3",
      "display_name": "Python 3"
    },
    "language_info": {
      "name": "python"
    }
  },
  "cells": [
    {
      "cell_type": "markdown",
      "metadata": {
        "id": "view-in-github",
        "colab_type": "text"
      },
      "source": [
        "<a href=\"https://colab.research.google.com/github/Moysezg/Bondad-de-Ajuste-de-Chi-cuadrado/blob/main/Prueba_de_Kolmogorov_Smirnov.ipynb\" target=\"_parent\"><img src=\"https://colab.research.google.com/assets/colab-badge.svg\" alt=\"Open In Colab\"/></a>"
      ]
    },
    {
      "cell_type": "code",
      "source": [
        "\n",
        "#Prueba de medias por obtención de números aleatorios entre 0 y 1\n",
        "import random\n",
        "lista_nums1 =[]\n",
        "lista_nums2 =[]\n",
        "lista_nums = []    #Creamos una lista vacía para guardar los números\n",
        "\n",
        "numaleatorios=5\n",
        "for i in range(0,numaleatorios): \n",
        "   n = (float(round(random.uniform(0, 1),4)))\n",
        "   lista_nums.append(n)    # Agregamos el numero introducido a la lista\n",
        "   m=(i+1)/numaleatorios\n",
        "   lista_nums1.append(m)\n",
        "   m2=(i)/numaleatorios\n",
        "   lista_nums2.append(m2)\n",
        "\n",
        "#Obtención de media y varianza con la libreria statistics\n",
        "print(\" los datos son: \", lista_nums,\"otros \", lista_nums1,\"otros más \",lista_nums2)\n",
        "numeros_ordenados = sorted(lista_nums, reverse=False)\n",
        "print(\"Los datos ordenados en orden Ascendente son: \\n\", numeros_ordenados)\n",
        "import numpy as np #sirve para sumar dos vectores\n",
        "\n",
        "np_list1 = np.array(lista_nums1) #Para guardar los números de D+\n",
        "np_list2 = np.array(numeros_ordenados) #números ordenados en la lista\n",
        "np_list3 = np.array(lista_nums2) #Para guardar los números de D-\n",
        "\n",
        "np_sumvectores = np_list1 - np_list2\n",
        "np_sumvectores1 = np_list2 - np_list3\n",
        "\n",
        "print(\"\\nD+ (i/n-ri) =\",np_sumvectores,\"\\nEl maximo es D+=\",round(np_sumvectores.max(),6))\n",
        "\n",
        "print(\"\\nD- (ri-(i-1)/n) =\",np_sumvectores1,\"\\nEl maximo es D-=: \",round(np_sumvectores1.max(),6))\n",
        "\n",
        "if np_sumvectores.max() < np_sumvectores1.max():\n",
        "  ks=np_sumvectores1.max()\n",
        "  print(\"\\nD=max{D+,D-}: \",ks)\n",
        "else:\n",
        "  ks=np_sumvectores.max()\n",
        "  print(\"\\nD=max{D+,D-}: \",ks)\n",
        "DKS=0.50945\n",
        "print(\"Con una confiabilidad del 90% D(0.10,5)=\",DKS)\n",
        "if ks < DKS:\n",
        "  print(\"Se concluye que D<D(alfa,n), los datos~U(0,1)\")\n",
        "else:\n",
        "  print(\"Se concluye que D(alfa,n)<D, los datos no siguen una distribución U(0,1)\")\n",
        "\n",
        "#De las tablas de kolmogorov-Smirnov con un nivel de confiablidad del 90% y suponiendo que son 5 datos entonces D(0.10,5)=0.50945"
      ],
      "metadata": {
        "colab": {
          "base_uri": "https://localhost:8080/"
        },
        "outputId": "4dd55657-3ab8-4eda-814c-792694e62418",
        "id": "slhjDD0pHBMr"
      },
      "execution_count": 242,
      "outputs": [
        {
          "output_type": "stream",
          "name": "stdout",
          "text": [
            " los datos son:  [0.9805, 0.5617, 0.6132, 0.3808, 0.9484] otros  [0.2, 0.4, 0.6, 0.8, 1.0] otros más  [0.0, 0.2, 0.4, 0.6, 0.8]\n",
            "Los datos ordenados en orden Ascendente son: \n",
            " [0.3808, 0.5617, 0.6132, 0.9484, 0.9805]\n",
            "\n",
            "D+ (i/n-ri) = [-0.1808 -0.1617 -0.0132 -0.1484  0.0195] \n",
            "El maximo es D+= 0.0195\n",
            "\n",
            "D- (ri-(i-1)/n) = [0.3808 0.3617 0.2132 0.3484 0.1805] \n",
            "El maximo es D-=:  0.3808\n",
            "\n",
            "D=max{D+,D-}:  0.3808\n",
            "Con una confiabilidad del 90% D(0.10,5)= 0.50945\n",
            "Se concluye que D<D(alfa,n), los datos~U(0,1)\n"
          ]
        }
      ]
    }
  ]
}