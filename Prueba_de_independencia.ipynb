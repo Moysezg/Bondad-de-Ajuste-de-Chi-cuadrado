{
  "cells": [
    {
      "cell_type": "markdown",
      "metadata": {
        "id": "view-in-github",
        "colab_type": "text"
      },
      "source": [
        "<a href=\"https://colab.research.google.com/github/Moysezg/Bondad-de-Ajuste-de-Chi-cuadrado/blob/main/Prueba_de_independencia.ipynb\" target=\"_parent\"><img src=\"https://colab.research.google.com/assets/colab-badge.svg\" alt=\"Open In Colab\"/></a>"
      ]
    },
    {
      "cell_type": "code",
      "source": [
        "lista_nums =  [0.43,0.28,0.33,0.27,0.12,0.31,0.42,0.01,0.32,0.45,0.98,0.79,0.99,0.55,0.67,0.74,0.16,0.20,0.12,0.58]   \n",
        "nums = []\n",
        "a=0\n",
        "k=0\n",
        "l=0\n",
        "numd=len(lista_nums)    \n",
        "print(\"El número total de datos es: \", numd)\n",
        "for i in lista_nums:\n",
        "    if a<=i:\n",
        "      #print(\"a<i, a es:\",a,\"i es\",i)\n",
        "      k=k+1\n",
        "      valor_ingresado=0\n",
        "      nums.append(valor_ingresado)\n",
        "    else:\n",
        "      #print(\"i<a a es:\",a,\"i es:\", i)\n",
        "      l=l+1\n",
        "      valor_ingresado=1\n",
        "      nums.append(valor_ingresado)\n",
        "    a=i\n",
        " \n",
        "#print(\"k:\", k)\n",
        "#print(\"l\", l) \n",
        "print(\"numeros 0 y 1\",nums)\n",
        "a=0\n",
        "x=nums[1]\n",
        "#print(\"la segunda posicion\",x)\n",
        "if x==0:\n",
        "  print(\"hola\")\n",
        "  p=1\n",
        "  for i in range(len(nums)):\n",
        "    #print(nums[i])\n",
        "    if nums[i]!=a:\n",
        "      p=p+1 \n",
        "      a=nums[i]\n",
        "else:\n",
        "  p=0\n",
        "  for i in range(len(nums)):\n",
        "    #print(nums[i])\n",
        "    if nums[i]!=a:\n",
        "      p=p+1 \n",
        "      a=nums[i] \n",
        "\n",
        "print(\"Número de corridas h= \", p)\n",
        "\n",
        "EH=(2*numd-1)/3\n",
        "VH=(16*numd-29)/90\n",
        "z=(p-EH)/(VH**0.5)\n",
        "zalfa=1.96\n",
        "print(\"El estadistico z es: \",round(z,6),\"Con un 95% de confiabilidad zalfa/2= \",zalfa)\n",
        "\n",
        "if z<zalfa:\n",
        "  print(\"Se acepta la hipotesis de independencia.\")\n",
        "else:\n",
        "  print(\"Se rechaza la hipotesis de independencia.\")\n",
        "\n"
      ],
      "metadata": {
        "colab": {
          "base_uri": "https://localhost:8080/"
        },
        "id": "pEet49xNIANm",
        "outputId": "f0cb5ced-f9f9-4064-a422-1faab80deb21"
      },
      "execution_count": 275,
      "outputs": [
        {
          "output_type": "stream",
          "name": "stdout",
          "text": [
            "El número total de datos es:  20\n",
            "numeros 0 y 1 [0, 1, 0, 1, 1, 0, 0, 1, 0, 0, 0, 1, 0, 1, 0, 0, 1, 0, 1, 0]\n",
            "Número de corridas h=  14\n",
            "El estadistico z es:  0.556128 Con un 95% de confiabilidad zalfa/2=  1.96\n",
            "Se acepta la hipotesis de independencia.\n"
          ]
        }
      ]
    }
  ],
  "metadata": {
    "colab": {
      "provenance": [],
      "authorship_tag": "ABX9TyOvFvMI+1tTf4D11JMMJLk+",
      "include_colab_link": true
    },
    "kernelspec": {
      "display_name": "Python 3",
      "name": "python3"
    },
    "language_info": {
      "name": "python"
    }
  },
  "nbformat": 4,
  "nbformat_minor": 0
}