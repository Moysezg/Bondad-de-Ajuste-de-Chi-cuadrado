{
  "nbformat": 4,
  "nbformat_minor": 0,
  "metadata": {
    "colab": {
      "provenance": [],
      "authorship_tag": "ABX9TyMllgwhLfSe7RVK8+bSVQVQ",
      "include_colab_link": true
    },
    "kernelspec": {
      "name": "python3",
      "display_name": "Python 3"
    },
    "language_info": {
      "name": "python"
    }
  },
  "cells": [
    {
      "cell_type": "markdown",
      "metadata": {
        "id": "view-in-github",
        "colab_type": "text"
      },
      "source": [
        "<a href=\"https://colab.research.google.com/github/Moysezg/Bondad-de-Ajuste-de-Chi-cuadrado/blob/main/Montecarlo_de_Media_Muestral.ipynb\" target=\"_parent\"><img src=\"https://colab.research.google.com/assets/colab-badge.svg\" alt=\"Open In Colab\"/></a>"
      ]
    },
    {
      "cell_type": "code",
      "execution_count": 41,
      "metadata": {
        "colab": {
          "base_uri": "https://localhost:8080/"
        },
        "id": "9qmmSGBj10Z2",
        "outputId": "756bfbd4-d4d2-4ac5-db08-3c6e6576294b"
      },
      "outputs": [
        {
          "output_type": "stream",
          "name": "stdout",
          "text": [
            "Semilla inicial:  515190439\n",
            "Nueva semilla: \n",
            "1 9\n",
            "2 7\n",
            "3 11\n",
            "4 3\n",
            "5 5\n",
            "6 1\n",
            "7 9\n",
            "8 7\n",
            "9 11\n",
            "10 3\n"
          ]
        }
      ],
      "source": [
        "#INTRODUCE LOS VALORES DE A, B Y M\n",
        "a=5\n",
        "b=4\n",
        "m=14\n",
        "import random \n",
        "#SE ESCOGE UNA SEMILLA AL AZAR ENTRE 0 Y 999999999\n",
        "semilla=random.randint(0,999999999)\n",
        "print (\"Semilla inicial: \", semilla )\n",
        "print(\"Nueva semilla: \")\n",
        "for i in range(10):\n",
        "    print(i+1, (a*semilla+b)%m)\n",
        "    semilla=(a*semilla+b)%m"
      ]
    },
    {
      "cell_type": "code",
      "source": [],
      "metadata": {
        "colab": {
          "base_uri": "https://localhost:8080/"
        },
        "id": "hrDe3dbs5miE",
        "outputId": "b3255273-0229-4c82-c867-c55ccd308a04"
      },
      "execution_count": 37,
      "outputs": [
        {
          "output_type": "stream",
          "name": "stdout",
          "text": [
            "1 10\n",
            "2 12\n",
            "3 8\n",
            "4 2\n",
            "5 0\n",
            "6 4\n",
            "7 10\n",
            "8 12\n",
            "9 8\n",
            "10 2\n",
            "11 0\n"
          ]
        }
      ]
    },
    {
      "cell_type": "code",
      "source": [],
      "metadata": {
        "colab": {
          "base_uri": "https://localhost:8080/"
        },
        "id": "cEfyUtNU8NBb",
        "outputId": "8c778b75-6a5e-4fc3-d185-a259bb2c7061"
      },
      "execution_count": 34,
      "outputs": [
        {
          "output_type": "stream",
          "name": "stdout",
          "text": [
            "10\n"
          ]
        }
      ]
    }
  ]
}