{
  "cells": [
    {
      "cell_type": "markdown",
      "metadata": {
        "id": "view-in-github",
        "colab_type": "text"
      },
      "source": [
        "<a href=\"https://colab.research.google.com/github/Moysezg/Bondad-de-Ajuste-de-Chi-cuadrado/blob/main/Inventario_con_simpy.ipynb\" target=\"_parent\"><img src=\"https://colab.research.google.com/assets/colab-badge.svg\" alt=\"Open In Colab\"/></a>"
      ]
    },
    {
      "cell_type": "markdown",
      "metadata": {
        "id": "DfhKGXb8VlzP"
      },
      "source": [
        "<!--NOTEBOOK_HEADER-->\n",
        "*This notebook contains material from [cbe30338-2021](https://jckantor.github.io/cbe30338-2021);\n",
        "content is available [on Github](https://github.com/jckantor/cbe30338-2021.git).*\n"
      ]
    },
    {
      "cell_type": "markdown",
      "source": [
        "#Inventario con simpy (ZGM)\n",
        "\n",
        "###1. Llamamos a las funciones para instalar simpy y poder trabajar con él, para poder gráficar y realizar algunas operaciones matemáticas (operaciones con matrices).\n",
        "\n"
      ],
      "metadata": {
        "id": "KE2enj2VXqxb"
      }
    },
    {
      "cell_type": "code",
      "source": [
        "!pip install simpy  # Función que sirve para instalar simpy.\n",
        "import simpy # Se llama la función simpy que es con la que se trabajara.\n",
        "import numpy as np #  NumPy sirve para usar matrices y operaciones numéricas en Python.\n",
        "import matplotlib.pyplot as plt #La función sirve para hacer gráficos\n"
      ],
      "metadata": {
        "id": "i5uJQM55Vnn0",
        "outputId": "03a43a15-99c8-4be5-a901-b9c2fe85aed5",
        "colab": {
          "base_uri": "https://localhost:8080/"
        }
      },
      "execution_count": 2,
      "outputs": [
        {
          "output_type": "stream",
          "name": "stdout",
          "text": [
            "Looking in indexes: https://pypi.org/simple, https://us-python.pkg.dev/colab-wheels/public/simple/\n",
            "Collecting simpy\n",
            "  Downloading simpy-4.0.1-py2.py3-none-any.whl (29 kB)\n",
            "Installing collected packages: simpy\n",
            "Successfully installed simpy-4.0.1\n"
          ]
        }
      ]
    },
    {
      "cell_type": "markdown",
      "source": [
        "## Esto define la función warehouse_run con tres parámetros: env, order_cutoff y order_target. env es el entorno de simulación de SimPy, mientras que order_cutoff y order_target son valores que determinan cuándo se debe realizar un pedido y cuánto inventario se debe tener como objetivo.\n",
        "## Es la demanda y el uso de inventario."
      ],
      "metadata": {
        "id": "N8fHjmdtbKXP"
      }
    },
    {
      "cell_type": "code",
      "source": [
        "\n",
        "def warehouse_run(env, order_cutoff, order_target):\n",
        "  global inventory, balance, num_ordered\n",
        "\n",
        "  inventory = order_target #El inventario será igual al order_target que es el objetivo.\n",
        "  balance = 0.0 #Balance es el valor monetario.\n",
        "  num_ordered = 0 #Indica los pedidos en proceso.\n",
        "\n",
        "  while True:\n",
        "    interarrival = generate_interarrival()  #tiempo entre llegadas de los pedidos al almacén.\n",
        "    yield env.timeout(interarrival) #Con yield, la ejecución se suspende.\n",
        "    balance -= inventory*2*interarrival # Se descuenta del balance el costo de mantener el inventario durante el intervalo de tiempo interarrival.\n",
        "    demand = generate_demand() #demanda de productos.\n",
        "    if demand < inventory:\n",
        "      balance += 100*demand #Si la demanda es menor, se agrega al balance el beneficio de vender la cantidad demandada multiplicada por 100.\n",
        "      inventory -= demand\n",
        "      print ('{:.2f} sold {}'.format(env.now, demand)) #Da mensaje indicando el tiempo actual y la cantidad de productos vendidos.\n",
        "    else:\n",
        "      balance += 100*inventory  #Se agrega al balance el beneficio de vender todo el inventario multiplicado por 100.\n",
        "      inventory = 0 #Se tendrá un inventario de 0 porque la demanda supero el inventario.\n",
        "      print ('{:.2f} sold {} (out of stock)'.format(env.now,inventory)) #Manda un mensaje diciendo que el inventario se agoto.\n",
        "    if inventory < order_cutoff and num_ordered == 0:\n",
        "      env.process(handle_order(env, order_target)) #Se verifica siel inventario está en orden y no hay ningún pedido en proceso\n",
        "\n"
      ],
      "metadata": {
        "id": "t9G15hSDVmZ3"
      },
      "execution_count": 3,
      "outputs": []
    },
    {
      "cell_type": "markdown",
      "source": [
        " ## Simula el proceso de manejo de pedidos en el almacén. Calcula la cantidad de productos que se deben pedir, actualiza el balance y el inventario, y muestra el pedido y la recepción de productos."
      ],
      "metadata": {
        "id": "qTlNHQD1fQ16"
      }
    },
    {
      "cell_type": "code",
      "source": [
        "def handle_order(env, order_target):\n",
        "  global inventory, balance, num_ordered # Al declarar las variables de está forma, se pueden modificar sus valores dentro de la función.\n",
        "\n",
        "  num_ordered = order_target - inventory #Cálcula la cantidad de unidades que se deben pedir para alcanzar el objetivo.\n",
        "  print ('{:.2f} placed order for {}'.format(env.now, num_ordered)) #Indica el número de envios y la cantidad de pedidos.\n",
        "  balance -= 50*num_ordered   #Resta el costo de los productos de balance.\n",
        "  yield env.timeout(2.0) #La función yield suspende el proceso durante 2.0 unidades de tiempo\n",
        "  inventory += num_ordered #Añade los productos al inventario existente.\n",
        "  num_ordered = 0 #Se restablece a 0 porque los demandas han sido satisfechas.\n",
        "  print('{:.2f} received order, {} in inventory'.format(env.now, inventory)) # Indica los productos que hay en el inventario despúes de recibir el pedido.\n",
        "\n"
      ],
      "metadata": {
        "id": "1wKDpAYAXE0K"
      },
      "execution_count": 4,
      "outputs": []
    },
    {
      "cell_type": "markdown",
      "source": [
        "## Estas funciones se utilizan para generar datos aleatorios, como el tiempo entre llegadas de pedidos y la demanda de productos, y una lista para almacenar observaciones del nivel de inventario."
      ],
      "metadata": {
        "id": "7Xf-m49aiGmA"
      }
    },
    {
      "cell_type": "code",
      "source": [
        "def generate_interarrival():\n",
        "  return np.random.exponential(1./5) #Número aleatorio con distribución exponencial entre 1 y 5.\n",
        "\n",
        "def generate_demand():\n",
        "  return np.random.randint(1, 5) #Número aleatorio entre 1 y 5\n",
        "\n",
        "obs_time = [] #Lista para guardar las observaciones del tiempo.\n",
        "inventory_level = [] #lista para guardar el nivel de inventario.\n",
        "\n"
      ],
      "metadata": {
        "id": "k6NifxeEXPii"
      },
      "execution_count": 5,
      "outputs": []
    },
    {
      "cell_type": "markdown",
      "source": [
        "## \"observe\" es una función de SimPy y se utiliza para realizar observaciones periódicas del nivel de inventario."
      ],
      "metadata": {
        "id": "dgIyr1K-jdu5"
      }
    },
    {
      "cell_type": "code",
      "source": [
        "def observe(env):\n",
        "  global inventory\n",
        "\n",
        "  while True:\n",
        "    obs_time.append(env.now) #son observaciones que pueden cambiar su valor númerico en la función, representando el tiempo de la observación.\n",
        "    inventory_level.append(inventory) # Se agrega el valor alctual del inventario a la lista.\n",
        "    yield env.timeout(0.2) #se suspende el proceso con \"yield\" durante 0.2 unidades de tiempo para que la simulación avance antes de la siguiente observación.\n",
        "\n"
      ],
      "metadata": {
        "id": "ScKWgHyhXWYX"
      },
      "execution_count": 6,
      "outputs": []
    },
    {
      "cell_type": "markdown",
      "source": [
        "## A continuación, se establece la semilla para la generación de números aleatorios, inicia los procesos para simular el almacén y observar el nivel de inventario, ejecuta la simulación durante un tiempo determinado y luego traza un gráfico del nivel de inventario a lo largo del tiempo representando la simulación y el nivel de inventario."
      ],
      "metadata": {
        "id": "cv2WrkGulKoY"
      }
    },
    {
      "cell_type": "code",
      "source": [
        "np.random.seed(0) #se establece la semilla.\n",
        "\n",
        "env = simpy.Environment() #Es para realizar la simulación.\n",
        "env.process(warehouse_run(env, 25, 50)) #Con warehouse_run simula el funcionamiento del almacen, con un nivel mínimo de inventario de 25 y con 50 que es la cantidad objetiva.\n",
        "env.process(observe(env)) #Se observa el proceso de la simulación con la variable Enviorement (env) de simpy.\n",
        "\n",
        "env.run(until = 10.0) #Se ejecuta hasta alcanzar 10.0 unidades de tiempo.\n",
        "\n",
        "plt.figure() # Se traza el gráfico.\n",
        "plt.step(obs_time, inventory_level, where = 'post') #Sirve para trazar el gráfico escalonado.\n",
        "plt.xlabel('Simulation time(days)') # Titulo del eje \"X\"\n",
        "plt.ylabel('Inventory level') #Titulo del eje \"Y\""
      ],
      "metadata": {
        "id": "UlbjTtm8XaB9",
        "outputId": "6a4d0c8a-7ea2-4784-9a3f-13ca9e209826",
        "colab": {
          "base_uri": "https://localhost:8080/",
          "height": 1000
        }
      },
      "execution_count": 7,
      "outputs": [
        {
          "output_type": "stream",
          "name": "stdout",
          "text": [
            "0.16 sold 2\n",
            "0.53 sold 4\n",
            "0.69 sold 2\n",
            "0.88 sold 3\n",
            "1.00 sold 3\n",
            "1.01 sold 1\n",
            "1.11 sold 3\n",
            "1.44 sold 3\n",
            "1.61 sold 2\n",
            "1.97 sold 1\n",
            "1.99 sold 4\n",
            "1.99 placed order for 28\n",
            "2.08 sold 2\n",
            "2.38 sold 4\n",
            "2.79 sold 4\n",
            "3.11 sold 4\n",
            "3.26 sold 4\n",
            "3.28 sold 1\n",
            "3.46 sold 2\n",
            "3.99 received order, 29 in inventory\n",
            "4.04 sold 4\n",
            "4.06 sold 4\n",
            "4.06 placed order for 29\n",
            "4.12 sold 4\n",
            "4.39 sold 1\n",
            "4.56 sold 1\n",
            "4.63 sold 2\n",
            "4.82 sold 1\n",
            "4.92 sold 1\n",
            "5.15 sold 3\n",
            "5.34 sold 2\n",
            "5.58 sold 2\n",
            "6.06 received order, 33 in inventory\n",
            "6.28 sold 3\n",
            "6.50 sold 3\n",
            "6.59 sold 1\n",
            "6.67 sold 2\n",
            "6.67 placed order for 26\n",
            "6.75 sold 3\n",
            "6.86 sold 1\n",
            "7.50 sold 4\n",
            "7.55 sold 4\n",
            "8.62 sold 1\n",
            "8.67 received order, 37 in inventory\n",
            "8.68 sold 4\n",
            "8.81 sold 3\n",
            "8.84 sold 2\n",
            "9.06 sold 1\n",
            "9.09 sold 2\n",
            "9.69 sold 4\n",
            "9.69 placed order for 29\n"
          ]
        },
        {
          "output_type": "execute_result",
          "data": {
            "text/plain": [
              "Text(0, 0.5, 'Inventory level')"
            ]
          },
          "metadata": {},
          "execution_count": 7
        },
        {
          "output_type": "display_data",
          "data": {
            "text/plain": [
              "<Figure size 640x480 with 1 Axes>"
            ],
            "image/png": "[encoded data removed]"
          },
          "metadata": {}
        }
      ]
    },
    {
      "cell_type": "markdown",
      "metadata": {
        "id": "fS--JOd4VlzY"
      },
      "source": [
        "<!--NAVIGATION-->\n",
        "< [7.0 Discrete Event Systems](https://jckantor.github.io/cbe30338-2021/07.00-Discrete-Event-Systems.html) | [Contents](toc.html) | [Tag Index](tag_index.html) | [7.2 Agent Based Models](https://jckantor.github.io/cbe30338-2021/07.02-Agent-Based-Models.html) ><p><a href=\"https://colab.research.google.com/github/jckantor/cbe30338-2021/blob/master/docs/07.01-Introduction-to-Simpy.ipynb\"> <img align=\"left\" src=\"https://colab.research.google.com/assets/colab-badge.svg\" alt=\"Open in Colab\" title=\"Open in Google Colaboratory\"></a><p><a href=\"https://jckantor.github.io/cbe30338-2021/07.01-Introduction-to-Simpy.ipynb\"> <img align=\"left\" src=\"https://img.shields.io/badge/Github-Download-blue.svg\" alt=\"Download\" title=\"Download Notebook\"></a>"
      ]
    }
  ],
  "metadata": {
    "kernelspec": {
      "display_name": "Python 3",
      "language": "python",
      "name": "python3"
    },
    "language_info": {
      "codemirror_mode": {
        "name": "ipython",
        "version": 3
      },
      "file_extension": ".py",
      "mimetype": "text/x-python",
      "name": "python",
      "nbconvert_exporter": "python",
      "pygments_lexer": "ipython3",
      "version": "3.8.5"
    },
    "colab": {
      "provenance": [],
      "include_colab_link": true
    }
  },
  "nbformat": 4,
  "nbformat_minor": 0
}