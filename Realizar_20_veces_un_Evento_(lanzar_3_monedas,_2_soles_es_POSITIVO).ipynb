{
  "nbformat": 4,
  "nbformat_minor": 0,
  "metadata": {
    "colab": {
      "provenance": [],
      "authorship_tag": "ABX9TyOkudz51q9e9i6f0ETTb1lv",
      "include_colab_link": true
    },
    "kernelspec": {
      "name": "python3",
      "display_name": "Python 3"
    },
    "language_info": {
      "name": "python"
    }
  },
  "cells": [
    {
      "cell_type": "markdown",
      "metadata": {
        "id": "view-in-github",
        "colab_type": "text"
      },
      "source": [
        "<a href=\"https://colab.research.google.com/github/Moysezg/Bondad-de-Ajuste-de-Chi-cuadrado/blob/main/Realizar_20_veces_un_Evento_(lanzar_3_monedas%2C_2_soles_es_POSITIVO).ipynb\" target=\"_parent\"><img src=\"https://colab.research.google.com/assets/colab-badge.svg\" alt=\"Open In Colab\"/></a>"
      ]
    },
    {
      "cell_type": "code",
      "source": [
        "import random\n",
        "\n",
        "lista_nums = []    #Creamos una lista vacía para guardar los números\n",
        "soles=0\n",
        "aguilas=0\n",
        "numaleatorios=3 #cantidad de números aleatorios generados.\n",
        "dossoles=0\n",
        "for j in range(0,20):\n",
        "  \n",
        "  lista_nums=[]\n",
        "  soles=0 \n",
        "  aguilas=0\n",
        "  lista_nums=[]\n",
        "  lista_nums1=[]\n",
        "  for i in range(0,numaleatorios): \n",
        "    n = (float(round(random.uniform(0, 1),4)))\n",
        "    lista_nums1.append(n)    # Agregamos el numero introducido a la lista\n",
        "    if n<0.5:\n",
        "     soles=soles+1\n",
        "     lista_nums.append(\"sol\")\n",
        "    else:\n",
        "     aguilas=aguilas+1\n",
        "     lista_nums.append(\"aguila\")\n",
        "\n",
        "#print(lista_nums1)\n",
        "#print(lista_nums)    #lista que guarda los números  \n",
        "#print(\"cantidad de soles:\",soles)\n",
        "#print(\"cantidad de aguilas:\",aguilas)\n",
        " \n",
        "  if soles==2:\n",
        "    dossoles=dossoles+1\n",
        "    print(j+1,lista_nums,\"            #soles:\",soles,\"   #aguilas:\",aguilas,\"-------POSITIVO\")\n",
        "  else: \n",
        "         print(j+1,lista_nums,\"       #soles:\",soles,\"   #aguilas:\",aguilas,\"------NEGATIVO\")\n",
        "\n",
        "print(\"\\ncantidad de eventos positivos\", dossoles,\"de 20\")\n",
        "probabilidad=dossoles/20\n",
        "print(\"Probabilidad=\", round(probabilidad,6))"
      ],
      "metadata": {
        "colab": {
          "base_uri": "https://localhost:8080/"
        },
        "id": "ZrFrradFBITe",
        "outputId": "91b9f65f-36e4-4c7f-fc1b-21bb46ccaf3b"
      },
      "execution_count": 203,
      "outputs": [
        {
          "output_type": "stream",
          "name": "stdout",
          "text": [
            "1 ['sol', 'aguila', 'sol']             #soles: 2    #aguilas: 1 -------POSITIVO\n",
            "2 ['sol', 'sol', 'sol']        #soles: 3    #aguilas: 0 ------NEGATIVO\n",
            "3 ['aguila', 'aguila', 'aguila']        #soles: 0    #aguilas: 3 ------NEGATIVO\n",
            "4 ['aguila', 'aguila', 'aguila']        #soles: 0    #aguilas: 3 ------NEGATIVO\n",
            "5 ['aguila', 'sol', 'sol']             #soles: 2    #aguilas: 1 -------POSITIVO\n",
            "6 ['sol', 'aguila', 'aguila']        #soles: 1    #aguilas: 2 ------NEGATIVO\n",
            "7 ['sol', 'aguila', 'aguila']        #soles: 1    #aguilas: 2 ------NEGATIVO\n",
            "8 ['aguila', 'sol', 'sol']             #soles: 2    #aguilas: 1 -------POSITIVO\n",
            "9 ['aguila', 'aguila', 'aguila']        #soles: 0    #aguilas: 3 ------NEGATIVO\n",
            "10 ['sol', 'sol', 'aguila']             #soles: 2    #aguilas: 1 -------POSITIVO\n",
            "11 ['sol', 'sol', 'aguila']             #soles: 2    #aguilas: 1 -------POSITIVO\n",
            "12 ['sol', 'aguila', 'aguila']        #soles: 1    #aguilas: 2 ------NEGATIVO\n",
            "13 ['aguila', 'sol', 'aguila']        #soles: 1    #aguilas: 2 ------NEGATIVO\n",
            "14 ['sol', 'aguila', 'aguila']        #soles: 1    #aguilas: 2 ------NEGATIVO\n",
            "15 ['aguila', 'sol', 'sol']             #soles: 2    #aguilas: 1 -------POSITIVO\n",
            "16 ['aguila', 'aguila', 'aguila']        #soles: 0    #aguilas: 3 ------NEGATIVO\n",
            "17 ['sol', 'sol', 'sol']        #soles: 3    #aguilas: 0 ------NEGATIVO\n",
            "18 ['aguila', 'aguila', 'sol']        #soles: 1    #aguilas: 2 ------NEGATIVO\n",
            "19 ['sol', 'aguila', 'aguila']        #soles: 1    #aguilas: 2 ------NEGATIVO\n",
            "20 ['sol', 'aguila', 'aguila']        #soles: 1    #aguilas: 2 ------NEGATIVO\n",
            "\n",
            "cantidad de eventos positivos 6 de 20\n",
            "Probabilidad= 0.3\n"
          ]
        }
      ]
    },
    {
      "cell_type": "code",
      "source": [],
      "metadata": {
        "id": "LPuEVAH1CIX5"
      },
      "execution_count": null,
      "outputs": []
    }
  ]
}