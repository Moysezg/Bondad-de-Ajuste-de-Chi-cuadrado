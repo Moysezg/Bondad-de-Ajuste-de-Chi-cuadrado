{
  "nbformat": 4,
  "nbformat_minor": 0,
  "metadata": {
    "colab": {
      "provenance": [],
      "authorship_tag": "ABX9TyMrcRO+ceYXJGwFSAP9jctC",
      "include_colab_link": true
    },
    "kernelspec": {
      "name": "python3",
      "display_name": "Python 3"
    },
    "language_info": {
      "name": "python"
    }
  },
  "cells": [
    {
      "cell_type": "markdown",
      "metadata": {
        "id": "view-in-github",
        "colab_type": "text"
      },
      "source": [
        "<a href=\"https://colab.research.google.com/github/Moysezg/Bondad-de-Ajuste-de-Chi-cuadrado/blob/main/Prueba_de_Varianzas.ipynb\" target=\"_parent\"><img src=\"https://colab.research.google.com/assets/colab-badge.svg\" alt=\"Open In Colab\"/></a>"
      ]
    },
    {
      "cell_type": "code",
      "execution_count": 63,
      "metadata": {
        "colab": {
          "base_uri": "https://localhost:8080/"
        },
        "id": "_X0HXh87hBd2",
        "outputId": "3cb43b54-1b91-45df-acfd-b28821eefd56"
      },
      "outputs": [
        {
          "output_type": "stream",
          "name": "stdout",
          "text": [
            " los datos son:  [0.7269, 0.9396, 0.4785, 0.658, 0.5657]\n",
            "El número total de datos es:  5\n",
            "promedio  0.67374\n",
            "Varianza m es:  0.03089\n",
            "Nivel de confianza 95%, grados libertad=  4\n",
            "\n",
            "chi~cuadrado( 0.975 , 4 ),= 0.4844186\n",
            "chi~cuadrado( 0.025 , 4 ),= 11.1432868\n",
            "\n",
            "Límite inferior=  0.010092053272665207 límite superior= 0.2321518079557874\n",
            "Varianza m es:  0.03089\n",
            "0.010092053272665207 <= var <= 0.2321518079557874 , \n",
            "Aceptamos que los números tienen una varianza estadisticamente igual a 1/12 con un nivel de aceptación 1-alfa\n"
          ]
        }
      ],
      "source": [
        "\"\"\"Si los números quieren ser introducidos manualmente hacerlo de esta forma\n",
        "lista_nums = [0.005,0.2,0.3,0.5,0.5,0.9,0.10,0.2,0.8,0.999999999]  \n",
        "from numpy import mean \n",
        "print(\"Media \", round(mean(lista_nums), 5))\n",
        "import statistics\n",
        "output = statistics.variance(lista_nums) \n",
        "print(\"Varianza(m) : \", round(output, 5))\n",
        "\"\"\"\n",
        "\n",
        "#Prueba de medias por obtención de números aleatorios entre 0 y 1\n",
        "import numpy as np\n",
        "from scipy import stats\n",
        "import scipy.stats\n",
        "import random\n",
        "lista_nums = []    #Creamos una lista vacía para guardar los números\n",
        "for i in range(0,5): \n",
        "   n = (float(round(random.uniform(0, 1),4)))\n",
        "   lista_nums.append(n)    # Agregamos el numero introducido a la lista\n",
        "   \n",
        "   \n",
        "#Obtención de media y varianza con la libreria statistics\n",
        "print(\" los datos son: \", lista_nums)\n",
        "nt= len(lista_nums)\n",
        "print(\"El número total de datos es: \", nt) #contar datos\n",
        "from numpy import mean \n",
        "promedio= round(mean(lista_nums), 5)\n",
        "print(\"promedio \", promedio)\n",
        "import statistics\n",
        "var = statistics.variance(lista_nums) \n",
        "print(\"Varianza m es: \", round(var, 5))\n",
        "\n",
        "\n",
        "#Define los valores de alfa para chi cuadrado\n",
        "alfa=0.05\n",
        "confiabilidad=1-alfa/2\n",
        "gl=nt-1\n",
        "\n",
        "import scipy.stats\n",
        "from scipy import stats\n",
        "from  scipy.stats import chi2_contingency\n",
        "\n",
        "lsvchi=scipy.stats.chi2.ppf(confiabilidad,gl)\n",
        "livchi=scipy.stats.chi2.ppf(alfa/2,gl)\n",
        "\n",
        "print(\"Nivel de confianza 95%, grados libertad= \",round(gl))\n",
        "print(\"\\nchi~cuadrado(\", confiabilidad,\",\",gl,\"),=\",round(livchi,7))\n",
        "print(\"chi~cuadrado(\", alfa/2,\",\",gl,\"),=\",round(lsvchi,7))\n",
        "\n",
        "\n",
        "#Cálculo de límite inferior y superior\n",
        "z=1.96 #Nivel de confianza del 95% \n",
        "lsx=lsvchi/(12*(nt-1))\n",
        "lix=livchi/(12*(nt-1))\n",
        "print(\"\\nLímite inferior= \",lix, \"límite superior=\" ,lsx)\n",
        "print(\"Varianza m es: \", round(var, 5))\n",
        "if lix <= var <= lsx:\n",
        "  print(lix,\"<= var <=\",lsx,\", \\nAceptamos que los números tienen una varianza estadisticamente igual a 1/12 con un nivel de aceptación 1-alfa\")\n",
        "  \n",
        "else:\n",
        "  print(\"\\nLos números aleatorios no tienen una varianza estadisticamente igual a 1/12 con un nivel de rechazo de 1-alfa\")"
      ]
    },
    {
      "cell_type": "code",
      "source": [],
      "metadata": {
        "colab": {
          "base_uri": "https://localhost:8080/"
        },
        "id": "2AR_sGDTlYda",
        "outputId": "4982a146-0b66-4d2d-d2a1-961becc166c8"
      },
      "execution_count": 50,
      "outputs": [
        {
          "output_type": "execute_result",
          "data": {
            "text/plain": [
              "19.67513757268249"
            ]
          },
          "metadata": {},
          "execution_count": 50
        }
      ]
    }
  ]
}