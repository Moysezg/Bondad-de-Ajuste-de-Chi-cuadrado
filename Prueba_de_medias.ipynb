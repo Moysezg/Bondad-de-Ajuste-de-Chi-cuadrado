{
  "nbformat": 4,
  "nbformat_minor": 0,
  "metadata": {
    "colab": {
      "provenance": [],
      "authorship_tag": "ABX9TyNxk3bmiyazb6FlITbuWp1P",
      "include_colab_link": true
    },
    "kernelspec": {
      "name": "python3",
      "display_name": "Python 3"
    },
    "language_info": {
      "name": "python"
    }
  },
  "cells": [
    {
      "cell_type": "markdown",
      "metadata": {
        "id": "view-in-github",
        "colab_type": "text"
      },
      "source": [
        "<a href=\"https://colab.research.google.com/github/Moysezg/Bondad-de-Ajuste-de-Chi-cuadrado/blob/main/Prueba_de_medias.ipynb\" target=\"_parent\"><img src=\"https://colab.research.google.com/assets/colab-badge.svg\" alt=\"Open In Colab\"/></a>"
      ]
    },
    {
      "cell_type": "code",
      "execution_count": 125,
      "metadata": {
        "colab": {
          "base_uri": "https://localhost:8080/"
        },
        "id": "gXH0Jh__Ez1C",
        "outputId": "1bb86de6-87cc-4a4f-d436-9065dcf23355"
      },
      "outputs": [
        {
          "output_type": "stream",
          "name": "stdout",
          "text": [
            " los datos son:  [0.2854, 0.6985, 0.3593, 0.9612, 0.6856]\n",
            "El número total de datos es:  5\n",
            "promedio  0.598\n",
            "Varianza m es:  0.0761\n",
            "\n",
            "Límite inferior=  0.246965 límite superior= 0.753035\n",
            "0.246965 <= promedio <= 0.753035 , Aceptamos que los números tienen una media estadisticamente igual a 1/2 con un nivel de aceptación 1-alfa\n"
          ]
        }
      ],
      "source": [
        "\"\"\"Si los números quieren ser introducidos manualmente hacerlo de esta forma\n",
        "lista_nums = [0.005,0.2,0.3,0.5,0.5,0.9,0.10,0.2,0.8,0.999999999]  \n",
        "from numpy import mean \n",
        "print(\"Media \", round(mean(lista_nums), 5))\n",
        "import statistics\n",
        "output = statistics.variance(lista_nums) \n",
        "print(\"Varianza(m) : \", round(output, 5))\n",
        "\"\"\"\n",
        "\n",
        "#Prueba de medias por obtención de números aleatorios entre 0 y 1\n",
        "import random\n",
        "lista_nums = []    #Creamos una lista vacía para guardar los números\n",
        "for i in range(0,5): \n",
        "   n = (float(round(random.uniform(0, 1),4)))\n",
        "   lista_nums.append(n)    # Agregamos el numero introducido a la lista\n",
        "   \n",
        "   \n",
        "\n",
        "print(\" los datos son: \", lista_nums)\n",
        "nt= len(lista_nums)\n",
        "print(\"El número total de datos es: \", nt) #contar datos\n",
        "from numpy import mean \n",
        "promedio= round(mean(lista_nums), 5)\n",
        "print(\"promedio \", promedio)\n",
        "\n",
        "#Obtención de media y varianza con la libreria statistics\n",
        "import statistics\n",
        "output = statistics.variance(lista_nums) \n",
        "print(\"Varianza m es: \", round(output, 5))\n",
        "z=1.96 #Nivel de confianza del 95% \n",
        "lsx=round(1/2+z*1/((12*nt)**0.5),6)\n",
        "lix=round(1/2-z*1/((12*nt)**0.5),6)\n",
        "print(\"\\nLímite inferior= \",lix, \"límite superior=\" ,lsx)\n",
        "\n",
        "if lix <= promedio <= lsx:\n",
        "  print(lix,\"<= promedio <=\",lsx,\", Aceptamos que los números tienen una media estadisticamente igual a 1/2 con un nivel de aceptación 1-alfa\")\n",
        "  \n",
        "else:\n",
        "  print(\"Los números aleatorios no tienen una media estadisticamente igual a 1/2 con un nivel de rechazo de 1-alfa\")"
      ]
    },
    {
      "cell_type": "code",
      "source": [
        "\n"
      ],
      "metadata": {
        "colab": {
          "base_uri": "https://localhost:8080/"
        },
        "id": "gjaxzlGIaRpJ",
        "outputId": "e299ba38-bf0b-4761-cfaf-772bd1fa1bf5"
      },
      "execution_count": 98,
      "outputs": [
        {
          "output_type": "stream",
          "name": "stdout",
          "text": [
            "Aceptamos que los números tienen una media estadisticamente igual a 1/2 con un nivel de aceptación 1-alfa\n"
          ]
        }
      ]
    }
  ]
}